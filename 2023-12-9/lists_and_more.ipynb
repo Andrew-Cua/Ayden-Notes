{
 "cells": [
  {
   "cell_type": "markdown",
   "metadata": {},
   "source": [
    "# Lists, Tuples, Dictionaries and More \n",
    "\n",
    "### Lists\n",
    "Lists, Tuples, and Dictionaries are all examples of composite data types \n",
    "\n",
    "They are composed of many datatypes and sometimes even different kinds. \n",
    "\n",
    "For example, an integer can only store a single integer, same for floats and strings, each can only store a single of that type \n",
    "\n",
    "Lists solve that problem, they can store multiple entries of that datatype. \n",
    "\n",
    "`nums = [1, 2, 3, 4]`\n",
    "\n",
    "In this case, nums is a list that stores integers. \n",
    "\n",
    "You can make a list of anything, but it comes with the contraint that a list can only be of a single type.\n",
    "- So you wouldn't be able to have a list that stores both strings and numbers. \n",
    "\n"
   ]
  },
  {
   "cell_type": "code",
   "execution_count": 36,
   "metadata": {},
   "outputs": [
    {
     "name": "stdout",
     "output_type": "stream",
     "text": [
      "[1, 2, 3, 4]\n"
     ]
    }
   ],
   "source": [
    "# Lists \n",
    "\n",
    "# creates a list of 4 nums \n",
    "nums = [1, 2, 3, 4]\n",
    "print(nums)\n",
    "\n",
    "\n",
    "\n",
    "\n",
    "\n",
    "\n",
    "\n",
    "\n",
    "\n"
   ]
  },
  {
   "cell_type": "code",
   "execution_count": 38,
   "metadata": {},
   "outputs": [
    {
     "name": "stdout",
     "output_type": "stream",
     "text": [
      "1\n",
      "4\n"
     ]
    }
   ],
   "source": [
    "# you can access a single elements like so, \n",
    "print(nums[0])\n",
    "# as you can see, lists start at 0. So the first element is actually the 0th element. It would also mean that the \n",
    "# last element would be index 3 not index 4\n",
    "print(nums[3])"
   ]
  },
  {
   "cell_type": "code",
   "execution_count": 42,
   "metadata": {},
   "outputs": [
    {
     "name": "stdout",
     "output_type": "stream",
     "text": [
      "2\n",
      "[5, 2, 3, 4]\n"
     ]
    },
    {
     "ename": "IndexError",
     "evalue": "list assignment index out of range",
     "output_type": "error",
     "traceback": [
      "\u001b[0;31m---------------------------------------------------------------------------\u001b[0m",
      "\u001b[0;31mIndexError\u001b[0m                                Traceback (most recent call last)",
      "\u001b[1;32m/Users/andrewcua/projects/tutor/ayden-python/2023-12-9/lists_and_more.ipynb Cell 4\u001b[0m line \u001b[0;36m8\n\u001b[1;32m      <a href='vscode-notebook-cell:/Users/andrewcua/projects/tutor/ayden-python/2023-12-9/lists_and_more.ipynb#X24sZmlsZQ%3D%3D?line=3'>4</a>\u001b[0m \u001b[39mprint\u001b[39m(nums[\u001b[39m1\u001b[39m])\n\u001b[1;32m      <a href='vscode-notebook-cell:/Users/andrewcua/projects/tutor/ayden-python/2023-12-9/lists_and_more.ipynb#X24sZmlsZQ%3D%3D?line=4'>5</a>\u001b[0m \u001b[39mprint\u001b[39m(nums)\n\u001b[0;32m----> <a href='vscode-notebook-cell:/Users/andrewcua/projects/tutor/ayden-python/2023-12-9/lists_and_more.ipynb#X24sZmlsZQ%3D%3D?line=7'>8</a>\u001b[0m nums[\u001b[39m4\u001b[39;49m] \u001b[39m=\u001b[39m \u001b[39m0\u001b[39m\n",
      "\u001b[0;31mIndexError\u001b[0m: list assignment index out of range"
     ]
    }
   ],
   "source": [
    "# you can overwrite elements in a list by using the same notation \n",
    "# an error will be thrown however if there is no element at that index \n",
    "nums[0] = 5\n",
    "print(nums[1])\n",
    "print(nums)\n",
    "\n",
    "\n",
    "nums[4] = 0"
   ]
  },
  {
   "cell_type": "code",
   "execution_count": 43,
   "metadata": {},
   "outputs": [
    {
     "name": "stdout",
     "output_type": "stream",
     "text": [
      "[5, 2, 3, 4, 5]\n"
     ]
    }
   ],
   "source": [
    "#you can also add elements to a list like so\n",
    "nums.append(5)\n",
    "print(nums)"
   ]
  },
  {
   "cell_type": "code",
   "execution_count": 29,
   "metadata": {},
   "outputs": [
    {
     "name": "stdout",
     "output_type": "stream",
     "text": [
      "[5, 2, 3, 5]\n"
     ]
    }
   ],
   "source": [
    "# or remove it \n",
    "nums.remove(4)\n",
    "print(nums)\n"
   ]
  },
  {
   "cell_type": "code",
   "execution_count": 30,
   "metadata": {},
   "outputs": [],
   "source": [
    "\n",
    "# you can also make an empty list\n",
    "empty = [] \n"
   ]
  },
  {
   "cell_type": "code",
   "execution_count": 44,
   "metadata": {},
   "outputs": [
    {
     "name": "stdout",
     "output_type": "stream",
     "text": [
      "Its here\n",
      "No ones\n"
     ]
    }
   ],
   "source": [
    "# you can even use it in a conditional \n",
    "if 2 in nums: \n",
    "    print(\"Its here\")\n",
    "\n",
    "if 1 in nums:\n",
    "    print(\"Its here\")\n",
    "else:\n",
    "    print(\"No ones\")"
   ]
  },
  {
   "cell_type": "markdown",
   "metadata": {},
   "source": [
    "### Tuples \n",
    "\n",
    "Tuples are a fancy name for something you've already interacted with in your math classes. An ordered pair, or more familiarly a coordinate pair. \n",
    "\n",
    "`point = (2, 3)` \n",
    "\n",
    "This stores a tuple that contains two numbers. \n",
    "Tuples can be larger than two entries, you can have `point = (2,3,4)`. \n",
    "\n",
    "Tuples can also store more than one kind datatype so: \n",
    "\n",
    "`values = (1, \"hello\", 3)` is perfectly legal. \n",
    "\n",
    "However, once a tuple is created, it cannot be changed. "
   ]
  },
  {
   "cell_type": "code",
   "execution_count": 45,
   "metadata": {},
   "outputs": [
    {
     "name": "stdout",
     "output_type": "stream",
     "text": [
      "(2, 3)\n"
     ]
    }
   ],
   "source": [
    "# Tuples \n",
    "\n",
    "# can be created like this \n",
    "point = (2,3)\n",
    "print(point)"
   ]
  },
  {
   "cell_type": "code",
   "execution_count": 46,
   "metadata": {},
   "outputs": [
    {
     "name": "stdout",
     "output_type": "stream",
     "text": [
      "(2, False, 3)\n"
     ]
    }
   ],
   "source": [
    "# can be filled with any kind of datatype \n",
    "test = (2, False, 3)\n",
    "print(test)"
   ]
  },
  {
   "cell_type": "code",
   "execution_count": 47,
   "metadata": {},
   "outputs": [
    {
     "name": "stdout",
     "output_type": "stream",
     "text": [
      "2\n"
     ]
    }
   ],
   "source": [
    "#indivdual elements can be accessed in the same way as lists \n",
    "print(test[0])\n",
    "\n"
   ]
  },
  {
   "cell_type": "code",
   "execution_count": 51,
   "metadata": {},
   "outputs": [
    {
     "name": "stdout",
     "output_type": "stream",
     "text": [
      "(4, False, 3)\n"
     ]
    },
    {
     "ename": "TypeError",
     "evalue": "'tuple' object does not support item assignment",
     "output_type": "error",
     "traceback": [
      "\u001b[0;31m---------------------------------------------------------------------------\u001b[0m",
      "\u001b[0;31mTypeError\u001b[0m                                 Traceback (most recent call last)",
      "\u001b[1;32m/Users/andrewcua/projects/tutor/ayden-python/2023-12-9/lists_and_more.ipynb Cell 13\u001b[0m line \u001b[0;36m4\n\u001b[1;32m      <a href='vscode-notebook-cell:/Users/andrewcua/projects/tutor/ayden-python/2023-12-9/lists_and_more.ipynb#X26sZmlsZQ%3D%3D?line=1'>2</a>\u001b[0m test \u001b[39m=\u001b[39m (\u001b[39m4\u001b[39m, \u001b[39mFalse\u001b[39;00m, \u001b[39m3\u001b[39m)\n\u001b[1;32m      <a href='vscode-notebook-cell:/Users/andrewcua/projects/tutor/ayden-python/2023-12-9/lists_and_more.ipynb#X26sZmlsZQ%3D%3D?line=2'>3</a>\u001b[0m \u001b[39mprint\u001b[39m(test)\n\u001b[0;32m----> <a href='vscode-notebook-cell:/Users/andrewcua/projects/tutor/ayden-python/2023-12-9/lists_and_more.ipynb#X26sZmlsZQ%3D%3D?line=3'>4</a>\u001b[0m test[\u001b[39m0\u001b[39;49m] \u001b[39m=\u001b[39m \u001b[39m3\u001b[39m\n\u001b[1;32m      <a href='vscode-notebook-cell:/Users/andrewcua/projects/tutor/ayden-python/2023-12-9/lists_and_more.ipynb#X26sZmlsZQ%3D%3D?line=4'>5</a>\u001b[0m \u001b[39mprint\u001b[39m(test)\n",
      "\u001b[0;31mTypeError\u001b[0m: 'tuple' object does not support item assignment"
     ]
    }
   ],
   "source": [
    "# once created they cannot be changed \n",
    "test = (4, False, 3)\n",
    "print(test)\n",
    "test[0] = 3\n",
    "print(test)"
   ]
  },
  {
   "cell_type": "code",
   "execution_count": 53,
   "metadata": {},
   "outputs": [
    {
     "name": "stdout",
     "output_type": "stream",
     "text": [
      "<class 'tuple'>\n",
      "<class 'int'>\n",
      "(4, 4)\n"
     ]
    }
   ],
   "source": [
    "# used when functions return multiple values \n",
    "\n",
    "def testFunc(a, b):\n",
    "    return a + 2, b + 2\n",
    "\n",
    "val = testFunc(2,2)\n",
    "print(type(val))\n",
    "print(val)"
   ]
  },
  {
   "cell_type": "code",
   "execution_count": 57,
   "metadata": {},
   "outputs": [
    {
     "name": "stdout",
     "output_type": "stream",
     "text": [
      "5\n",
      "5\n",
      "(4, False, 3)\n",
      "<class 'int'>\n",
      "False\n",
      "3\n"
     ]
    }
   ],
   "source": [
    "# you can also \"unpack\" them into seperate variables \n",
    "x, y = testFunc(3,3)\n",
    "print(x)\n",
    "print(y)\n",
    "\n",
    "\n",
    "print(test)\n",
    "a, b, c = test \n",
    "\n",
    "print(type(a))\n",
    "print(b)\n",
    "print(c)"
   ]
  },
  {
   "cell_type": "markdown",
   "metadata": {},
   "source": [
    "### Dictionaries \n",
    "\n",
    "Dictionaries store something called key, value pairs. \n",
    "\n",
    "unlike lists and tuples that are accessed with a number, dictionaries are accessed using strings. They can also contain more than one type of datatype "
   ]
  },
  {
   "cell_type": "code",
   "execution_count": 60,
   "metadata": {},
   "outputs": [
    {
     "name": "stdout",
     "output_type": "stream",
     "text": [
      "{'Andrew': 100, 'Harrison': 75, 'Elijah': 30}\n"
     ]
    }
   ],
   "source": [
    "# Dictionaries \n",
    "\n",
    "# created like this \n",
    "\n",
    "scores = {\"Andrew\": 100, \"Harrison\":75, \"Elijah\": 30}\n",
    "print(scores)"
   ]
  },
  {
   "cell_type": "code",
   "execution_count": 61,
   "metadata": {},
   "outputs": [
    {
     "name": "stdout",
     "output_type": "stream",
     "text": [
      "100\n",
      "30\n"
     ]
    }
   ],
   "source": [
    "# individual elements are accessed like this \n",
    "print(scores[\"Andrew\"])\n",
    "print(scores[\"Elijah\"])\n"
   ]
  },
  {
   "cell_type": "code",
   "execution_count": 62,
   "metadata": {},
   "outputs": [
    {
     "name": "stdout",
     "output_type": "stream",
     "text": [
      "{'Andrew': 100, 'Harrison': 75, 'Elijah': 30, 'Ayden': '70'}\n"
     ]
    }
   ],
   "source": [
    "# you can add elements like this:\n",
    "scores[\"Ayden\"] = \"70\"\n",
    "print(scores)\n",
    "\n",
    "# unlike a list, you can't use append "
   ]
  },
  {
   "cell_type": "code",
   "execution_count": 67,
   "metadata": {},
   "outputs": [
    {
     "name": "stdout",
     "output_type": "stream",
     "text": [
      "{'Andrew': 100, 'Harrison': 75, 'Elijah': 30, 'Ayden': '70', 'other': [1, 2, 3, 4]}\n",
      "[{'Andrew': 12312}, {'Harrison': 'asdfasdf'}, {'Elijah': True}]\n"
     ]
    }
   ],
   "source": [
    "# a dictionary can even hold a list inside of it \n",
    "scores[\"other\"] = [1,2,3,4]\n",
    "print(scores)\n",
    "\n",
    "test = [{\"Andrew\":12312},{\"Harrison\":\"asdfasdf\"},{\"Elijah\": True}]\n",
    "print(test)\n",
    "\n",
    "# the other datatypes can also do something similar. \n",
    "# you can have a list of dictionaries \n",
    "# or a list of tuples \n",
    "# or a tuple of lists \n",
    "# or a tuple of dictionaries "
   ]
  },
  {
   "cell_type": "code",
   "execution_count": 91,
   "metadata": {},
   "outputs": [
    {
     "name": "stdout",
     "output_type": "stream",
     "text": [
      "Harrison 1\n",
      "Elijah hi\n",
      "Ayden Me\n",
      "Beckett chunky\n",
      "Ben Talking\n",
      "Christopher coding\n",
      "Nicholas football\n",
      "Caleb 3\n",
      "Aiden swim\n",
      "Ethan tall\n",
      "KSU\n",
      "12\n"
     ]
    }
   ],
   "source": [
    "# do the activity in the recap again, but use a list this time \n",
    "team = [\"Harrison\", \"Elijah\", \"Ayden\", \"Beckett\", \"Ben\", \"Christopher\", \"Nicholas\", \"Caleb\", \"Aiden\", \"Ethan\"]\n",
    "tem = {\"Harrison\": 1, \"Elijah\": \"hi\", \"Ayden\": \"Me\", \"Beckett\": \"chunky\", \"Ben\": \"Talking\", \"Christopher\": \"coding\", \"Nicholas\": \"football\", \"Caleb\": 3, \"Aiden\": \"swim\", \"Ethan\": \"tall\"}\n",
    "\n",
    "def greet(name: str, index: int) -> None:\n",
    "    print(f\"Hi, {name}\")\n",
    "    print(index)\n",
    "\n",
    "# index = 0\n",
    "# while(index < 10):\n",
    "#     index += 1\n",
    "#     print(\"Hi\")\n",
    "\n",
    "\n",
    "# for i in range(len(team)):\n",
    "#     greet(team[i], i)\n",
    "    # team[index]\n",
    "    # team[0]\n",
    "    # i = 3\n",
    "    # team[i]\n",
    "\n",
    "\n",
    "# for name in team: \n",
    "#     greet(name)\n",
    "\n",
    "for name, val in tem.items():\n",
    "    print(name, val)\n",
    "\n",
    "\n",
    "class Person: \n",
    "\n",
    "    def __init__(self, name, age, school):\n",
    "        self.name = name \n",
    "        self.age = age \n",
    "        self.school = school \n",
    "\n",
    "\n",
    "ayden = Person(\"Ayden\", 11, \"FutureForward\")\n",
    "harrison = Person(\"Harrison\", 19, \"KSU\")\n",
    "print(harrison.school)\n",
    "ayden.age = 12\n",
    "print(ayden.age)\n"
   ]
  },
  {
   "cell_type": "code",
   "execution_count": null,
   "metadata": {},
   "outputs": [],
   "source": []
  }
 ],
 "metadata": {
  "kernelspec": {
   "display_name": "cv_proj5",
   "language": "python",
   "name": "python3"
  },
  "language_info": {
   "codemirror_mode": {
    "name": "ipython",
    "version": 3
   },
   "file_extension": ".py",
   "mimetype": "text/x-python",
   "name": "python",
   "nbconvert_exporter": "python",
   "pygments_lexer": "ipython3",
   "version": "3.11.6"
  }
 },
 "nbformat": 4,
 "nbformat_minor": 2
}
