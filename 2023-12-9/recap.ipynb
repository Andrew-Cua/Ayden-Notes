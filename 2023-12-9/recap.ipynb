{
 "cells": [
  {
   "cell_type": "markdown",
   "metadata": {},
   "source": [
    "# Recap \n"
   ]
  },
  {
   "cell_type": "code",
   "execution_count": 4,
   "metadata": {},
   "outputs": [],
   "source": [
    "import util"
   ]
  },
  {
   "cell_type": "markdown",
   "metadata": {},
   "source": [
    "## Variables \n",
    "\n",
    "In Python, variables are like labeled boxes. \n",
    "\n",
    "You put things (data) inside these boxes and give each box a name. The name helps you remember what's inside. For example, if you have a box named \"score,\" you can put a number inside, like 95. \n",
    "\n",
    "Later, when you want to know the score, you ask Python to show you what's inside the \"score\" box. You can change the number in the box whenever you need to, like updating your game score. That's how variables in Python work—like labeled containers for information."
   ]
  },
  {
   "cell_type": "code",
   "execution_count": 1,
   "metadata": {},
   "outputs": [
    {
     "name": "stdout",
     "output_type": "stream",
     "text": [
      "one = 1\n",
      "two = 2\n",
      "one = 10\n",
      "two = 20\n"
     ]
    }
   ],
   "source": [
    "# the anatomy of a variable \n",
    "# [name] = [val]\n",
    "\n",
    "\n",
    "# writing to a variable \n",
    "one = 1 \n",
    "two = 2 \n",
    "\n",
    "#reading a variable \n",
    "print(f\"one = {one}\")\n",
    "print(f\"two = {two}\")\n",
    "\n",
    "# can be overriden \n",
    "one = 10 \n",
    "two = 20 \n",
    "\n",
    "print(f\"one = {one}\")\n",
    "print(f\"two = {two}\")\n"
   ]
  },
  {
   "cell_type": "markdown",
   "metadata": {},
   "source": [
    "## Datatypes \n",
    "Comes in two variants \n",
    "1. Primitive \n",
    "2. Composite <- What you'll learn today \n"
   ]
  },
  {
   "cell_type": "code",
   "execution_count": 9,
   "metadata": {},
   "outputs": [
    {
     "name": "stdout",
     "output_type": "stream",
     "text": [
      "The value is 1\n",
      "The value is 0.2\n",
      "The value is world\n",
      "The value is False\n",
      "The value is 1\n"
     ]
    }
   ],
   "source": [
    "# Primitive Datatypes \n",
    "\n",
    "# ints \n",
    "one = 1 \n",
    "util.print_var(one)\n",
    "\n",
    "# floats / doubles \n",
    "fifth = 1/5\n",
    "util.print_var(fifth)\n",
    "\n",
    "# strings \n",
    "hello = \"world\"\n",
    "util.print_var(hello)\n",
    "\n",
    "# booleans \n",
    "isTrue = False \n",
    "util.print_var(isTrue)\n",
    "\n",
    "# python allows you to change what type a variable is dynamically, avoid doing this if possible \n",
    "isTrue = 1\n",
    "util.print_var(isTrue)"
   ]
  },
  {
   "cell_type": "markdown",
   "metadata": {},
   "source": [
    "## User input \n",
    "Python makes it increadibly easy to collect user input "
   ]
  },
  {
   "cell_type": "code",
   "execution_count": 15,
   "metadata": {},
   "outputs": [
    {
     "name": "stdout",
     "output_type": "stream",
     "text": [
      "The value is <class 'str'>\n",
      "The value is <class 'int'>\n",
      "33\n"
     ]
    }
   ],
   "source": [
    "name = input(\"What is your name: \")\n",
    "util.print_var(type(name))\n",
    "\n",
    "# no matter what we input the value is always a string type \n",
    "\n",
    "# so how do we change it? \n",
    "\n",
    "number = int(input(\"Enter a number: \"))\n",
    "\n",
    "# the answer is type casting \n",
    "util.print_var(type(int(number)))\n",
    "\n",
    "# now we can do math on what was inputted \n",
    "print(10 + number)"
   ]
  },
  {
   "cell_type": "code",
   "execution_count": 2,
   "metadata": {},
   "outputs": [
    {
     "name": "stdout",
     "output_type": "stream",
     "text": [
      "ayden\n"
     ]
    }
   ],
   "source": [
    "name = input(\"What is your name: \")\n",
    "print(name)"
   ]
  },
  {
   "cell_type": "code",
   "execution_count": 11,
   "metadata": {},
   "outputs": [
    {
     "name": "stdout",
     "output_type": "stream",
     "text": [
      "<class 'str'>\n",
      "11\n"
     ]
    }
   ],
   "source": [
    "number = input(\"Give me a number: \")\n",
    "print(type(number))\n",
    "\n",
    "num = int(number)\n",
    "print(num + 10)"
   ]
  },
  {
   "cell_type": "markdown",
   "metadata": {},
   "source": [
    "## Functions \n",
    "\n",
    "In Python, functions are like mini-tasks. \n",
    "\n",
    "Imagine you have a magic recipe book. Each recipe (function) does something specific when you follow its instructions. For instance, there's a \"cook_pasta()\" recipe that tells you how to make pasta. When you want pasta, you just say \"cook_pasta()\"—no need to remember all the steps. \n",
    "\n",
    "Functions help you organize tasks and reuse them easily, like using your favorite recipes whenever you're hungry. They're like magic instructions in your programming cookbook!"
   ]
  },
  {
   "cell_type": "code",
   "execution_count": 14,
   "metadata": {},
   "outputs": [
    {
     "name": "stdout",
     "output_type": "stream",
     "text": [
      "Hello World\n",
      "Hello World\n",
      "Hello World\n",
      "5\n",
      "6\n",
      "7\n"
     ]
    }
   ],
   "source": [
    "# Anatomy of a function \n",
    "# def [name](param1, param2) -> returnType:\n",
    "\n",
    "def sayHelloWorld() -> None:\n",
    "    print(\"Hello World\")\n",
    "\n",
    "\n",
    "sayHelloWorld()\n",
    "sayHelloWorld()\n",
    "sayHelloWorld()\n",
    "\n",
    "\n",
    "# The most useful functions are ones that mutate data \n",
    "def addTwo(a: int): \n",
    "    return a + 2 \n",
    "\n",
    "print(addTwo(3))\n",
    "print(addTwo(4))\n",
    "print(addTwo(5))\n",
    "\n",
    "# rule of thumb is, if you have to use it multiple times, make it a function "
   ]
  },
  {
   "cell_type": "code",
   "execution_count": 19,
   "metadata": {},
   "outputs": [
    {
     "name": "stdout",
     "output_type": "stream",
     "text": [
      "(1, 2)\n",
      "Hello\n",
      "5\n"
     ]
    }
   ],
   "source": [
    "def nothing(a,b):\n",
    "    print((a,b))\n",
    "\n",
    "nothing(1,2) \n",
    "\n",
    "def square(a):\n",
    "    while(True):\n",
    "        print(\"Hello\")\n",
    "        break\n",
    "        return a*a\n",
    "        \n",
    "        \n",
    "    return a + 3\n",
    "\n",
    "\n",
    "print(square(2))"
   ]
  },
  {
   "cell_type": "markdown",
   "metadata": {},
   "source": [
    "## Exercise \n",
    "In the code cell below:\n",
    "1. Create a variable for every team member on your FLL team (excluding Harrison)\n",
    "2. Create a function that prints out a greeting for each member "
   ]
  },
  {
   "cell_type": "code",
   "execution_count": null,
   "metadata": {},
   "outputs": [],
   "source": []
  },
  {
   "cell_type": "markdown",
   "metadata": {},
   "source": []
  }
 ],
 "metadata": {
  "kernelspec": {
   "display_name": "cv_proj5",
   "language": "python",
   "name": "python3"
  },
  "language_info": {
   "codemirror_mode": {
    "name": "ipython",
    "version": 3
   },
   "file_extension": ".py",
   "mimetype": "text/x-python",
   "name": "python",
   "nbconvert_exporter": "python",
   "pygments_lexer": "ipython3",
   "version": "3.11.6"
  }
 },
 "nbformat": 4,
 "nbformat_minor": 2
}
