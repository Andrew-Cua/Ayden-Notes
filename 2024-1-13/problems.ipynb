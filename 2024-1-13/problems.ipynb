{
 "cells": [
  {
   "cell_type": "code",
   "execution_count": 10,
   "metadata": {},
   "outputs": [],
   "source": [
    "\"\"\"\n",
    "FizzBuzz: \n",
    "This is a pretty standard programming interview question. \n",
    "\n",
    "Implement the FizzBuzz program that prints numbers from 1 to 100. For multiples of 3, print \"Fizz,\" \n",
    "for multiples of 5, print \"Buzz,\" and for numbers that are multiples of both 3 and 5, print \"FizzBuzz.\"\n",
    "\"\"\"\n",
    "\n",
    "def FizzBuzz():\n",
    "    #Find how many muliples of 3 there are\n",
    "    #Find how many muliples of 5 there are\n",
    "    #Find how many muliples of both are there\n",
    "    # 9 % 3 == 0 \n",
    "    # 9 / 3 == 3 \n",
    "    for num in range(100):\n",
    "        print(num)\n",
    "        if num % 3 == 0:\n",
    "            print(\"Fizz\")\n",
    "        if num % 5 == 0:\n",
    "            print(\"Buzz\")\n",
    "        if num % 3 == 0 and num % 5 == 0:\n",
    "            print(\"FizzBuzz\")\n",
    "\n",
    "\n"
   ]
  },
  {
   "cell_type": "code",
   "execution_count": 11,
   "metadata": {},
   "outputs": [
    {
     "name": "stdout",
     "output_type": "stream",
     "text": [
      "0\n",
      "Fizz\n",
      "Buzz\n",
      "FizzBuzz\n",
      "1\n",
      "2\n",
      "3\n",
      "Fizz\n",
      "4\n",
      "5\n",
      "Buzz\n",
      "6\n",
      "Fizz\n",
      "7\n",
      "8\n",
      "9\n",
      "Fizz\n",
      "10\n",
      "Buzz\n",
      "11\n",
      "12\n",
      "Fizz\n",
      "13\n",
      "14\n",
      "15\n",
      "Fizz\n",
      "Buzz\n",
      "FizzBuzz\n",
      "16\n",
      "17\n",
      "18\n",
      "Fizz\n",
      "19\n",
      "20\n",
      "Buzz\n",
      "21\n",
      "Fizz\n",
      "22\n",
      "23\n",
      "24\n",
      "Fizz\n",
      "25\n",
      "Buzz\n",
      "26\n",
      "27\n",
      "Fizz\n",
      "28\n",
      "29\n",
      "30\n",
      "Fizz\n",
      "Buzz\n",
      "FizzBuzz\n",
      "31\n",
      "32\n",
      "33\n",
      "Fizz\n",
      "34\n",
      "35\n",
      "Buzz\n",
      "36\n",
      "Fizz\n",
      "37\n",
      "38\n",
      "39\n",
      "Fizz\n",
      "40\n",
      "Buzz\n",
      "41\n",
      "42\n",
      "Fizz\n",
      "43\n",
      "44\n",
      "45\n",
      "Fizz\n",
      "Buzz\n",
      "FizzBuzz\n",
      "46\n",
      "47\n",
      "48\n",
      "Fizz\n",
      "49\n",
      "50\n",
      "Buzz\n",
      "51\n",
      "Fizz\n",
      "52\n",
      "53\n",
      "54\n",
      "Fizz\n",
      "55\n",
      "Buzz\n",
      "56\n",
      "57\n",
      "Fizz\n",
      "58\n",
      "59\n",
      "60\n",
      "Fizz\n",
      "Buzz\n",
      "FizzBuzz\n",
      "61\n",
      "62\n",
      "63\n",
      "Fizz\n",
      "64\n",
      "65\n",
      "Buzz\n",
      "66\n",
      "Fizz\n",
      "67\n",
      "68\n",
      "69\n",
      "Fizz\n",
      "70\n",
      "Buzz\n",
      "71\n",
      "72\n",
      "Fizz\n",
      "73\n",
      "74\n",
      "75\n",
      "Fizz\n",
      "Buzz\n",
      "FizzBuzz\n",
      "76\n",
      "77\n",
      "78\n",
      "Fizz\n",
      "79\n",
      "80\n",
      "Buzz\n",
      "81\n",
      "Fizz\n",
      "82\n",
      "83\n",
      "84\n",
      "Fizz\n",
      "85\n",
      "Buzz\n",
      "86\n",
      "87\n",
      "Fizz\n",
      "88\n",
      "89\n",
      "90\n",
      "Fizz\n",
      "Buzz\n",
      "FizzBuzz\n",
      "91\n",
      "92\n",
      "93\n",
      "Fizz\n",
      "94\n",
      "95\n",
      "Buzz\n",
      "96\n",
      "Fizz\n",
      "97\n",
      "98\n",
      "99\n",
      "Fizz\n"
     ]
    }
   ],
   "source": [
    "FizzBuzz()"
   ]
  },
  {
   "cell_type": "code",
   "execution_count": 24,
   "metadata": {},
   "outputs": [],
   "source": [
    "\n",
    "\n",
    "\"\"\"\n",
    "Unique Elements: \n",
    "\n",
    "Create a function that takes a list of numbers as input and \n",
    "returns a new list with only the unique elements (no duplicates). \n",
    "For example, [1, 2, 2, 3, 4, 4, 5] should become [1, 2, 3, 4, 5].\n",
    "\n",
    "variables: boolean, string ,float, int\n",
    "if / conditional statements \n",
    "loops: for, while \n",
    "composite datatypes: lists, dicts, tuples \n",
    "\n",
    "\n",
    "\"\"\"\n",
    "\n",
    "def unique_nums(arr: list[int]):\n",
    "    nums = {}\n",
    "\n",
    "\n",
    "    # Make sure there's no duplicates, and if there are, delete them.\n",
    "\n",
    "    # copy each value \n",
    "    # overwrite old value with new value\n",
    "    \n",
    "    for num in arr: \n",
    "        nums[num] = 1\n",
    "\n",
    "    list = []\n",
    "    for key in nums.keys():\n",
    "        list.append(key)\n",
    "    return list\n",
    "\n",
    "\n",
    "    "
   ]
  },
  {
   "cell_type": "code",
   "execution_count": 25,
   "metadata": {},
   "outputs": [
    {
     "data": {
      "text/plain": [
       "[1, 2, 3, 4, 5, 6]"
      ]
     },
     "execution_count": 25,
     "metadata": {},
     "output_type": "execute_result"
    }
   ],
   "source": [
    "unique_nums([1,1,2,2,3,4,5,6,6,6])"
   ]
  },
  {
   "cell_type": "code",
   "execution_count": 26,
   "metadata": {},
   "outputs": [
    {
     "name": "stderr",
     "output_type": "stream",
     "text": [
      "test1 (__main__.UniqueNumsTests) ... ok\n",
      "\n",
      "----------------------------------------------------------------------\n",
      "Ran 1 test in 0.002s\n",
      "\n",
      "OK\n"
     ]
    },
    {
     "data": {
      "text/plain": [
       "<unittest.main.TestProgram at 0x1069b1d80>"
      ]
     },
     "execution_count": 26,
     "metadata": {},
     "output_type": "execute_result"
    }
   ],
   "source": [
    "import unittest\n",
    "\n",
    "class UniqueNumsTests(unittest.TestCase):\n",
    "\n",
    "    def test1(self):\n",
    "        arr = [1, 1, 1, 2, 3, 4, 4, 5]\n",
    "        arr_des = [1, 2, 3, 4, 5]\n",
    "\n",
    "        res = unique_nums(arr)\n",
    "        self.assertListEqual(res, arr_des)\n",
    "\n",
    "unittest.main(argv=[''], verbosity=2, exit=False)"
   ]
  },
  {
   "cell_type": "code",
   "execution_count": 42,
   "metadata": {},
   "outputs": [],
   "source": [
    "\"\"\"\n",
    "Prime Number Finder:\n",
    "\n",
    "Create a function that finds all the primes from 0 to 1000. \n",
    "The function should store all the primes in a list, \n",
    "and print them all out at once. \n",
    "\n",
    "4456434567 \n",
    "4456434563\n",
    "\n",
    "\"\"\"\n",
    "\n",
    "def find_primes(start = 0, end = 1000):\n",
    "    list = []\n",
    "\n",
    "    for num in range(end):\n",
    "        not_prime = False \n",
    "        if num % 2 == 0: \n",
    "            continue \n",
    "\n",
    "\n",
    "        for factor in range(3,num):\n",
    "            if num % factor == 0: \n",
    "                not_prime = True \n",
    "                continue  \n",
    "\n",
    "        if not not_prime: \n",
    "            list.append(num)\n",
    "\n",
    "    print(list)\n",
    "\n",
    "\n",
    "\n"
   ]
  },
  {
   "cell_type": "code",
   "execution_count": 43,
   "metadata": {},
   "outputs": [
    {
     "name": "stdout",
     "output_type": "stream",
     "text": [
      "[1, 3, 5, 7, 11, 13, 17, 19, 23, 29, 31, 37, 41, 43, 47, 53, 59, 61, 67, 71, 73, 79, 83, 89, 97, 101, 103, 107, 109, 113, 127, 131, 137, 139, 149, 151, 157, 163, 167, 173, 179, 181, 191, 193, 197, 199, 211, 223, 227, 229, 233, 239, 241, 251, 257, 263, 269, 271, 277, 281, 283, 293, 307, 311, 313, 317, 331, 337, 347, 349, 353, 359, 367, 373, 379, 383, 389, 397, 401, 409, 419, 421, 431, 433, 439, 443, 449, 457, 461, 463, 467, 479, 487, 491, 499, 503, 509, 521, 523, 541, 547, 557, 563, 569, 571, 577, 587, 593, 599, 601, 607, 613, 617, 619, 631, 641, 643, 647, 653, 659, 661, 673, 677, 683, 691, 701, 709, 719, 727, 733, 739, 743, 751, 757, 761, 769, 773, 787, 797, 809, 811, 821, 823, 827, 829, 839, 853, 857, 859, 863, 877, 881, 883, 887, 907, 911, 919, 929, 937, 941, 947, 953, 967, 971, 977, 983, 991, 997]\n"
     ]
    }
   ],
   "source": [
    "find_primes()"
   ]
  },
  {
   "cell_type": "code",
   "execution_count": 62,
   "metadata": {},
   "outputs": [],
   "source": [
    "\"\"\"\n",
    "Palindrome Detector:\n",
    "\n",
    "Create a function that when given a string, prints out whether \n",
    "or not that string is a palindrome (is the same backwards as it is forwards) \n",
    "i.e racecar -> \"im a palindrome\", taco -> \"i'm not a palindrome\", \n",
    "tacocat -> \"i'm a palindrome\n",
    "\n",
    "booleans, float, strings, int, char \n",
    "\n",
    "r a c e c a r\n",
    "\n",
    "\"\"\"\n",
    "\n",
    "def is_palindrome(s: str):\n",
    "    s = s.upper()\n",
    "    list = [] \n",
    "    list_reversed = [] \n",
    "\n",
    "    for v in s: \n",
    "        print(v)\n",
    "        list.append(v)\n",
    "        list_reversed.insert(0, v)\n",
    "        \n",
    "    if list_reversed == list:\n",
    "        print (\"i'm a palindrome\")\n",
    "    else:\n",
    "        print(\"I'm not a palindrome\")"
   ]
  },
  {
   "cell_type": "code",
   "execution_count": 63,
   "metadata": {},
   "outputs": [
    {
     "name": "stdout",
     "output_type": "stream",
     "text": [
      "W\n",
      "E\n",
      "Y\n",
      "F\n",
      "W\n",
      "I\n",
      "K\n",
      "I'm not a palindrome\n"
     ]
    }
   ],
   "source": [
    "is_palindrome(\"weyfwik\")"
   ]
  },
  {
   "cell_type": "code",
   "execution_count": 67,
   "metadata": {},
   "outputs": [],
   "source": [
    "\"\"\"\n",
    "Vowel Counter: \n",
    "\n",
    "Create a function that when given a string, counts and then prints out how many vowels there are. \n",
    "i.e Hello -> \"there are 2 vowels\"\n",
    "\n",
    "Do not consider y as a vowel\n",
    "\"\"\"\n",
    "\n",
    "def count_vowels(word: str): \n",
    "    word = word.lower()\n",
    "    vowels = 0\n",
    "    vowels_list = ['a', 'e', 'i', 'o', 'u']\n",
    "    for char in word:\n",
    "        if char in vowels_list:\n",
    "            vowels +=1\n",
    "    \n",
    "    print(vowels)"
   ]
  },
  {
   "cell_type": "code",
   "execution_count": 69,
   "metadata": {},
   "outputs": [
    {
     "name": "stdout",
     "output_type": "stream",
     "text": [
      "7\n"
     ]
    }
   ],
   "source": [
    "count_vowels(\"Alexander Graham Bell\")"
   ]
  },
  {
   "cell_type": "code",
   "execution_count": 82,
   "metadata": {},
   "outputs": [],
   "source": [
    "\"\"\"\n",
    "Vowel Counter Enhanced: \n",
    "\n",
    "Create a function that not only counts how many vowels there are, but also how many of each vowel there are.\n",
    "\n",
    "i.e Book -> 2 vowels, 2 o's \n",
    "i.e Hello, 2 vowels, 1 e, 1 o\n",
    "\"\"\"\n",
    "\n",
    "def count_vowels_enhanced(word: str): \n",
    "    word = word.lower()\n",
    "    vowels = 0\n",
    "    vowels_list = ['a', 'e', 'i', 'o', 'u']\n",
    "    vowel_counter = {'a':0, 'e':0, 'i':0, 'o':0, 'u':0}\n",
    "    for char in word:\n",
    "        if char in vowels_list:\n",
    "            vowels +=1\n",
    "            vowel_counter[char] += 1\n",
    "    return vowels, vowel_counter"
   ]
  },
  {
   "cell_type": "code",
   "execution_count": 83,
   "metadata": {},
   "outputs": [
    {
     "name": "stdout",
     "output_type": "stream",
     "text": [
      "(7, {'a': 4, 'e': 3, 'i': 0, 'o': 0, 'u': 0})\n"
     ]
    }
   ],
   "source": [
    "print(count_vowels_enhanced(\"Alexander Graham Bell\"))"
   ]
  }
 ],
 "metadata": {
  "kernelspec": {
   "display_name": "Python 3",
   "language": "python",
   "name": "python3"
  },
  "language_info": {
   "codemirror_mode": {
    "name": "ipython",
    "version": 3
   },
   "file_extension": ".py",
   "mimetype": "text/x-python",
   "name": "python",
   "nbconvert_exporter": "python",
   "pygments_lexer": "ipython3",
   "version": "3.10.12"
  }
 },
 "nbformat": 4,
 "nbformat_minor": 2
}
