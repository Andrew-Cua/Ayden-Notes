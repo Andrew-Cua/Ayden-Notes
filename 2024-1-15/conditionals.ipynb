{
 "cells": [
  {
   "cell_type": "markdown",
   "metadata": {},
   "source": [
    "# Conditionals \n",
    "\n",
    "Conditional statements are a programmers bread and butter. \n",
    "They allow a program to change its behavior dynamically and behave differently under specific conditons. \n",
    "\n",
    "So what do conditions look like. "
   ]
  },
  {
   "cell_type": "code",
   "execution_count": null,
   "metadata": {},
   "outputs": [],
   "source": [
    "# conditionals work a lot like they do in your math class \n",
    "# in programming conditionals will always return a True or False value \n",
    "\n",
    "a = 10\n",
    "b = 5\n",
    "c = 2\n",
    "d = 10 \n",
    "\n",
    "# Checks for eqeuality \n",
    "e = (a == d) # what is the value of this: True\n",
    "f = (a != d) # what is the value of this: False]\n",
    "\n",
    "# Checks for greater than / less than\n",
    "g = (a > b)  # what is the value of this: [True]\n",
    "h = (b < c)  # what is the value of this: [False]\n",
    "\n",
    "# Checks for greater than or equal to / less than or equal to\n",
    "i = (c >= d) # what is the value of this: [False]\n",
    "j = (a <= d) # what is the value of this: [True]"
   ]
  },
  {
   "cell_type": "code",
   "execution_count": 16,
   "metadata": {},
   "outputs": [
    {
     "name": "stdout",
     "output_type": "stream",
     "text": [
      "True\n",
      "False\n",
      "True\n",
      "False\n",
      "False\n",
      "True\n"
     ]
    }
   ],
   "source": [
    "print(e)\n",
    "print(f)\n",
    "print(g)\n",
    "print(h)\n",
    "print(i)\n",
    "print(j)"
   ]
  },
  {
   "cell_type": "code",
   "execution_count": 17,
   "metadata": {},
   "outputs": [
    {
     "name": "stdout",
     "output_type": "stream",
     "text": [
      "False\n",
      "True\n"
     ]
    }
   ],
   "source": [
    "# All True or False values can also be inverted using the \"not\" keyword \n",
    "\n",
    "k = not e # what is the value of this: [Answer] \n",
    "l = not f # what is the value of this: [Answer] \n",
    "\n",
    "print(k)\n",
    "print(l)"
   ]
  },
  {
   "cell_type": "markdown",
   "metadata": {},
   "source": [
    "Of course, just checking for equality / greater than / less than and so on isn't very useful on its own. \n",
    "\n",
    "The important part comes in when we introduce **Conditional Branching**. \n",
    "\n",
    "With Conditional Branching, we can have the program execute different instructions based on a True or False value "
   ]
  },
  {
   "cell_type": "code",
   "execution_count": 19,
   "metadata": {},
   "outputs": [
    {
     "name": "stdout",
     "output_type": "stream",
     "text": [
      "Before the first if statement\n",
      "A is 10\n",
      "After the first if statement\n",
      "Before the last if statement\n",
      "B is 10\n",
      "After the last if statement\n"
     ]
    }
   ],
   "source": [
    "# Conditional branching is accomplished using the \"if\" statement\n",
    "\n",
    "\n",
    "a = 10\n",
    "b = 5\n",
    "c = 2\n",
    "d = 10 \n",
    "\n",
    "print(\"Before the first if statement\")\n",
    "if (a == 10):\n",
    "    print(\"A is 10\")\n",
    "print(\"After the first if statement\")\n",
    "\n",
    "print(\"Before the last if statement\")\n",
    "if (b == 10):\n",
    "    print(\"B is 10\")\n",
    "print(\"After the last if statement\")"
   ]
  },
  {
   "cell_type": "markdown",
   "metadata": {},
   "source": [
    "As you can see, when the *if* statement is given a True value, the statement will step into the block that is under it and execute those lines of code and then continue with the rest of the program. \n",
    "\n",
    "when the *if* statement recieves a False value it **completely** skips the block inside of it and continues to the next line as if the *if* statement were not there\n",
    "\n",
    "\n",
    "Since if statements only care about True or False values you can use the boolean variables we created earlier. "
   ]
  },
  {
   "cell_type": "code",
   "execution_count": 20,
   "metadata": {},
   "outputs": [
    {
     "name": "stdout",
     "output_type": "stream",
     "text": [
      "a == d\n"
     ]
    }
   ],
   "source": [
    "# Checks for eqeuality \n",
    "e = (a == d) # what is the value of this: [Answer] \n",
    "f = (a != d) # what is the value of this: [Answer] \n",
    "\n",
    "# Checks for greater than / less than\n",
    "g = (a > b)  # what is the value of this: [Answer]\n",
    "h = (b < c)  # what is the value of this: [Answer]\n",
    "\n",
    "# Checks for greater than or equal to / less than or equal to\n",
    "i = (c >= d) # what is the value of this: [Answer]\n",
    "j = (a <= d) # what is the value of this: [Answer]\n",
    "\n",
    "if (e): # runs if e is True \n",
    "    print(\"a == d\")"
   ]
  },
  {
   "cell_type": "markdown",
   "metadata": {},
   "source": [
    "## Else statements \n",
    "\n",
    "Not only can we run code if a condition is true or false, we can run code if the *if* statement is bypassed. \n",
    "\n",
    "This is called an else statement. "
   ]
  },
  {
   "cell_type": "code",
   "execution_count": 21,
   "metadata": {},
   "outputs": [
    {
     "name": "stdout",
     "output_type": "stream",
     "text": [
      "the else block is running\n"
     ]
    }
   ],
   "source": [
    "if (f):\n",
    "    print(\"a != d\")\n",
    "else: \n",
    "    print(\"the else block is running\")"
   ]
  },
  {
   "cell_type": "code",
   "execution_count": 23,
   "metadata": {},
   "outputs": [
    {
     "name": "stdout",
     "output_type": "stream",
     "text": [
      "asdfasdf\n"
     ]
    }
   ],
   "source": [
    "# you can even chain an if statement after the else statement like so. \n",
    "\n",
    "if (f):\n",
    "    print(\"a != d\")\n",
    "elif (not e):\n",
    "    # this will only run if f is false, but e is true. Otherwise nothing happens \n",
    "    print(\"a == d\")\n",
    "else: \n",
    "    print(\"asdfasdf\")\n",
    "\n",
    "\n"
   ]
  },
  {
   "cell_type": "code",
   "execution_count": null,
   "metadata": {},
   "outputs": [],
   "source": []
  }
 ],
 "metadata": {
  "kernelspec": {
   "display_name": "Python 3",
   "language": "python",
   "name": "python3"
  },
  "language_info": {
   "codemirror_mode": {
    "name": "ipython",
    "version": 3
   },
   "file_extension": ".py",
   "mimetype": "text/x-python",
   "name": "python",
   "nbconvert_exporter": "python",
   "pygments_lexer": "ipython3",
   "version": "3.10.12"
  }
 },
 "nbformat": 4,
 "nbformat_minor": 2
}
