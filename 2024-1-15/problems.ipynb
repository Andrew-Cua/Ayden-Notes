{
 "cells": [
  {
   "cell_type": "code",
   "execution_count": null,
   "metadata": {},
   "outputs": [],
   "source": [
    "\"\"\"\n",
    "Toolbox: Write every python concept you know except classes below, \n",
    "use them to solve the following problems.\n",
    "\n",
    "Variables: String, Boolean, Float, Integer\n",
    "Loops: For Loops(Element, and Range), and While Loops\n",
    "Aggregate Datatypes:List, Dictionaries, Tuples\n",
    "\n",
    "What else? \n",
    "\n",
    "Conditionals:\n",
    "# Checks for eqeuality \n",
    "e = (a == d) # what is the value of this: True\n",
    "f = (a != d) # what is the value of this: False]\n",
    "\n",
    "# Checks for greater than / less than\n",
    "g = (a > b)  # what is the value of this: [True]\n",
    "h = (b < c)  # what is the value of this: [False]\n",
    "\n",
    "# Checks for greater than or equal to / less than or equal to\n",
    "i = (c >= d) # what is the value of this: [False]\n",
    "j = (a <= d) # what is the value of this: [True]\n",
    "\n",
    "\n",
    "\"\"\""
   ]
  },
  {
   "cell_type": "code",
   "execution_count": 4,
   "metadata": {},
   "outputs": [],
   "source": [
    "# write a function that takes in two variables, a and b \n",
    "# and swaps their values \n",
    "# i.e a = 10, b = 5 -> a = 5, b = 10\n",
    "def swap_variables(a, b):\n",
    "    a_old_value = a # 10\n",
    "    a = b           # 5 \n",
    "    b = a_old_value # 10\n",
    "    return a, b "
   ]
  },
  {
   "cell_type": "code",
   "execution_count": 5,
   "metadata": {},
   "outputs": [
    {
     "name": "stdout",
     "output_type": "stream",
     "text": [
      "(5, 10)\n"
     ]
    }
   ],
   "source": [
    "a = 10 \n",
    "b = 5 \n",
    "print(swap_variables(a, b))"
   ]
  },
  {
   "cell_type": "code",
   "execution_count": 20,
   "metadata": {},
   "outputs": [],
   "source": [
    "# Write a function that takes two lists as parameters and adds them into one list \n",
    "# i.e [1,2,3,4,5] + [1,7,8,9,10] = [1,2,3,4,5,1,7,8,9,10]\n",
    "\n",
    "def list_concat(l1, l2):\n",
    "    l_final = []\n",
    "    for num in l1:\n",
    "        l_final.append(num)\n",
    "    for num in l2:\n",
    "        l_final.append(num)\n",
    "    return l_final\n",
    "    "
   ]
  },
  {
   "cell_type": "code",
   "execution_count": 21,
   "metadata": {},
   "outputs": [
    {
     "name": "stdout",
     "output_type": "stream",
     "text": [
      "10\n",
      "[1, 2, 3, 4, 5, 1, 7, 8, 9, 10]\n"
     ]
    }
   ],
   "source": [
    "l1 = [1,2,3,4,5]\n",
    "l2 = [1,7,8,9,10]\n",
    "\n",
    "l3 = list_concat(l1, l2)\n",
    "print(len(l3))\n",
    "print(list_concat(l1, l2))"
   ]
  },
  {
   "cell_type": "code",
   "execution_count": 36,
   "metadata": {},
   "outputs": [],
   "source": [
    "# Write a function that takes a list as an argument \n",
    "# and prints out all elements at odd numbered positions. \n",
    "# i.e [1,2,3,4,5] -> [2, 4]\n",
    "def is_even(num):\n",
    "    if num % 2 == 0:\n",
    "       return True\n",
    "    else:\n",
    "        return False\n",
    "\n",
    "\n",
    "def get_odd_idx(l):\n",
    "    not_list = []\n",
    "    # indexed-based for loop\n",
    "    for num in range(len(l)):   \n",
    "        if not num % 2 == 0:\n",
    "            not_list.append(l[num])\n",
    "\n",
    "    return not_list"
   ]
  },
  {
   "cell_type": "code",
   "execution_count": 37,
   "metadata": {},
   "outputs": [
    {
     "name": "stdout",
     "output_type": "stream",
     "text": [
      "[2, 16]\n"
     ]
    }
   ],
   "source": [
    "print(get_odd_idx([1, 2,3,16,5]))"
   ]
  },
  {
   "cell_type": "code",
   "execution_count": 59,
   "metadata": {},
   "outputs": [],
   "source": [
    "# write a function that takes in a string and converts it into pig latin \n",
    "# i.e coding -> odingcay\n",
    "\n",
    "\"\"\" \n",
    "def swap_variables(a, b):\n",
    "    a_old_value = a # 10\n",
    "    a = b           # 5 \n",
    "    b = a_old_value # 10\n",
    "    return a, b \n",
    "\"\"\"\n",
    " \n",
    "def to_pig_latin(word: str):\n",
    "    first_old_value = word[0]\n",
    "    ay = \"ay\"\n",
    "    Second_Form = word + first_old_value\n",
    "    Third_Form = Second_Form + ay\n",
    "\n",
    "    return Third_Form[1:]\n",
    "\n",
    "   \n",
    "\n",
    "\n",
    "\n",
    "# write a function that takes in a string and converts it from pig latin\n",
    "# i.e odingcay -> coding\n",
    "def from_pig_latin(word):\n",
    "    word = word[0:-2]\n",
    "    last_letter = word[-1]\n",
    "    final_form = last_letter+word\n",
    "    return final_form[0:-1]\n",
    "    pass\n"
   ]
  },
  {
   "cell_type": "code",
   "execution_count": 62,
   "metadata": {},
   "outputs": [
    {
     "name": "stdout",
     "output_type": "stream",
     "text": [
      "odingcay\n",
      "coding\n",
      "Ayden\n"
     ]
    }
   ],
   "source": [
    "print(to_pig_latin(\"coding\"))\n",
    "print(from_pig_latin(\"odingcay\"))\n",
    "print(from_pig_latin(to_pig_latin(\"Ayden\")))"
   ]
  },
  {
   "cell_type": "code",
   "execution_count": null,
   "metadata": {},
   "outputs": [],
   "source": [
    "# Write a function that takes in an integer and prints out the last digit\n",
    "# i.e 12345 -> \"5\"\n",
    "# You are not allowed to convert the integer into a string\n",
    "# its okay for you to take a while with this problem \n",
    "def get_last_digit(num):\n",
    "    pass"
   ]
  },
  {
   "cell_type": "code",
   "execution_count": null,
   "metadata": {},
   "outputs": [],
   "source": [
    "# Write a function that takes in a dictionary of users along with a username and password\n",
    "# Check if the user exists in the dictionary if the user does not exist exit the function and print out \"The User does not exist\"\n",
    "# If the user does exist, prompt the user for a password, if it matches then exit the function and print out \"Welcome {Username}\"\n",
    "# If the password does not match, prompt the user up to 2 more times (for a total of 3 attempts), if the password is wrong after\n",
    "# 3rd attempt, exit the function and print out \"Max number of Attempts exceeded\"\n",
    "# You can use input(\"Password: \") to prompt the user for the password\n",
    "def login(users, username):\n",
    "    pass"
   ]
  },
  {
   "cell_type": "code",
   "execution_count": null,
   "metadata": {},
   "outputs": [],
   "source": [
    "# All keys are captial letters\n",
    "nato_phonetic_alphabet = {chr(i): v for i, v in zip(range(65, 91), ['Alpha', 'Bravo', 'Charlie', 'Delta', 'Echo', 'Foxtrot', 'Golf', 'Hotel', 'India', 'Juliet', 'Kilo', 'Lima', 'Mike', 'November', 'Oscar', 'Papa', 'Quebec', 'Romeo', 'Sierra', 'Tango', 'Uniform', 'Victor', 'Whiskey', 'X-ray', 'Yankee', 'Zulu'])}\n",
    "\n",
    "\n",
    "# Write a function that takes in an string and translates it into the NATO alphabet \n",
    "# i.e Python -> [\"Papa\", \"Yankee\", \"Tango\", \"Hotel\", \"Oscar\", \"November\"]\n",
    "# return a list like above\n",
    "def to_nato_alphabet(word):\n",
    "    pass"
   ]
  }
 ],
 "metadata": {
  "kernelspec": {
   "display_name": "Python 3",
   "language": "python",
   "name": "python3"
  },
  "language_info": {
   "codemirror_mode": {
    "name": "ipython",
    "version": 3
   },
   "file_extension": ".py",
   "mimetype": "text/x-python",
   "name": "python",
   "nbconvert_exporter": "python",
   "pygments_lexer": "ipython3",
   "version": "3.10.12"
  }
 },
 "nbformat": 4,
 "nbformat_minor": 2
}
