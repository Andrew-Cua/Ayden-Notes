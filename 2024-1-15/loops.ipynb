{
 "cells": [
  {
   "cell_type": "markdown",
   "metadata": {},
   "source": [
    "# Loops \n",
    "\n",
    "Loops are used to run code over and over again. \n",
    "\n",
    "There are two types of loops, the for loop and the while loop. "
   ]
  },
  {
   "cell_type": "code",
   "execution_count": 3,
   "metadata": {},
   "outputs": [
    {
     "name": "stdout",
     "output_type": "stream",
     "text": [
      "0 Hello World\n",
      "1 Hello World\n",
      "2 Hello World\n",
      "3 Hello World\n",
      "4 Hello World\n",
      "5 Hello World\n",
      "6 Hello World\n",
      "7 Hello World\n",
      "8 Hello World\n",
      "9 Hello World\n"
     ]
    }
   ],
   "source": [
    "# While Loops \n",
    "\n",
    "# These are the simplest type of loops \n",
    "# They will run what is inside the block continuously until the condition is no longer met \n",
    "\n",
    "times_printed = 0 \n",
    "\n",
    "while (times_printed < 10):\n",
    "    print(f\"{times_printed} Hello World\")\n",
    "    times_printed += 1"
   ]
  },
  {
   "cell_type": "markdown",
   "metadata": {},
   "source": [
    "While loops are best used when you don't know exactly how many times the block of code needs to be ran. \n",
    "\n",
    "However, if you do know how many times you want your block to be ran, then you'll want to use the for loop "
   ]
  },
  {
   "cell_type": "code",
   "execution_count": 2,
   "metadata": {},
   "outputs": [
    {
     "name": "stdout",
     "output_type": "stream",
     "text": [
      "0 Hello World\n",
      "1 Hello World\n",
      "2 Hello World\n",
      "3 Hello World\n",
      "4 Hello World\n",
      "5 Hello World\n",
      "6 Hello World\n",
      "7 Hello World\n",
      "8 Hello World\n",
      "9 Hello World\n"
     ]
    }
   ],
   "source": [
    "# For loops \n",
    "\n",
    "# They will run what is inside the block a set amount of times \n",
    "\n",
    "for i in range(10): \n",
    "    print(f\"{i} Hello World\")\n",
    "\n",
    "    "
   ]
  },
  {
   "cell_type": "markdown",
   "metadata": {},
   "source": [
    "As you saw, the result of the above code section was the exact same as the result of the first code section. Both printed Hello World 10 times. \n",
    "\n",
    "This is because while loops and for loops can be interchanged, anything you can do in a while loop you can do in a for loop and visa versa.\n",
    "\n",
    "but that doesn't mean that you should. As stated above while loops are best used when you don't know how many times the code block needs to be ran, but you do know the exit condition. \n",
    "\n",
    "\n",
    "For loops have another advantage over while loops. For loops are best when iterating over lists and dictionaries. "
   ]
  },
  {
   "cell_type": "code",
   "execution_count": 9,
   "metadata": {},
   "outputs": [
    {
     "name": "stdout",
     "output_type": "stream",
     "text": [
      "index: 0, element: 1\n",
      "index: 1, element: 2\n",
      "index: 2, element: 3\n",
      "index: 3, element: 4\n",
      "index: 4, element: 5\n",
      "index: 5, element: 10\n",
      "index: 6, element: 9\n",
      "index: 7, element: 8\n",
      "index: 8, element: 7\n",
      "index: 9, element: 6\n"
     ]
    }
   ],
   "source": [
    "nums = [1, 2, 3, 4, 5, 10, 9, 8, 7, 6]\n",
    "\n",
    "\n",
    "# This is a range-based for loop \n",
    "for i in range(len(nums)): # len(nums) returns how many elements are inside the nums list \n",
    "    print(f\"index: {i}, element: {nums[i]}\")"
   ]
  },
  {
   "cell_type": "code",
   "execution_count": 8,
   "metadata": {},
   "outputs": [
    {
     "name": "stdout",
     "output_type": "stream",
     "text": [
      "element: 1\n",
      "element: 2\n",
      "element: 3\n",
      "element: 4\n",
      "element: 5\n",
      "element: 10\n",
      "element: 9\n",
      "element: 8\n",
      "element: 7\n",
      "element: 6\n",
      "element: 1\n",
      "element: 2\n",
      "element: 3\n",
      "element: 4\n",
      "element: 5\n",
      "element: 10\n",
      "element: 9\n",
      "element: 8\n",
      "element: 7\n",
      "element: 6\n"
     ]
    }
   ],
   "source": [
    "nums = [1, 2, 3, 4, 5, 10, 9, 8, 7, 6]\n",
    "\n",
    "# This is an element-based for loop\n",
    "for num in nums: \n",
    "    print(f\"element: {num}\")\n",
    "\n",
    "for i in range(len(nums)):\n",
    "    num = nums[i]\n",
    "    print(f\"element: {num}\")"
   ]
  },
  {
   "cell_type": "markdown",
   "metadata": {},
   "source": [
    "## Range-based vs Element-based For Loops \n",
    "\n",
    "As you observed, both of the for loops had the same result, they iterated one-by-one over the list and printed out its contents. \n",
    "\n",
    "So what is the major difference between the two types of for loops? "
   ]
  },
  {
   "cell_type": "markdown",
   "metadata": {},
   "source": [
    "# Extra \n",
    "\n",
    "Loops over strings "
   ]
  },
  {
   "cell_type": "code",
   "execution_count": 7,
   "metadata": {},
   "outputs": [
    {
     "name": "stdout",
     "output_type": "stream",
     "text": [
      "H\n",
      "e\n",
      "l\n",
      "l\n",
      "o\n",
      " \n",
      "W\n",
      "o\n",
      "r\n",
      "l\n",
      "d\n",
      "H\n",
      "e\n",
      "l\n",
      "l\n",
      "o\n",
      " \n",
      "W\n",
      "o\n",
      "r\n",
      "l\n",
      "d\n"
     ]
    }
   ],
   "source": [
    "# You can iterate over strings like they are lists \n",
    "\n",
    "words = \"Hello World\"\n",
    "\n",
    "for asdf in words:\n",
    "    print(asdf)\n",
    "\n",
    "for i in range(len(words)):\n",
    "    asdf = words[i]\n",
    "    print(asdf)"
   ]
  }
 ],
 "metadata": {
  "kernelspec": {
   "display_name": "Python 3",
   "language": "python",
   "name": "python3"
  },
  "language_info": {
   "codemirror_mode": {
    "name": "ipython",
    "version": 3
   },
   "file_extension": ".py",
   "mimetype": "text/x-python",
   "name": "python",
   "nbconvert_exporter": "python",
   "pygments_lexer": "ipython3",
   "version": "3.10.12"
  }
 },
 "nbformat": 4,
 "nbformat_minor": 2
}
