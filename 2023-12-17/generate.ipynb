{
 "cells": [
  {
   "cell_type": "code",
   "execution_count": 1,
   "metadata": {},
   "outputs": [],
   "source": [
    "student_names = [\"Ayden\", \"Andrew\", \"Harrison\", \"Elijah\", \"Max\", \"Evan\"]\n",
    "class_names   = [\"Physics\", \"Computer Science\", \"Pre-algebra\", \"English\", \"Social Studies\"]\n",
    "assignment_types = [\"Homework\", \"Classwork\", \"Quiz\", \"Test\"]"
   ]
  },
  {
   "cell_type": "code",
   "execution_count": 4,
   "metadata": {},
   "outputs": [],
   "source": [
    "import random\n",
    "with open(\"grades.csv\", \"w\") as file: \n",
    "    for name in student_names: \n",
    "        for cls in class_names: \n",
    "           for assignment in assignment_types:\n",
    "               for i in range(20):\n",
    "                rand = (random.random() * 100) + 1\n",
    "                file.write(f\"{name}, {cls}, {assignment}, {rand} \\n\")\n"
   ]
  }
 ],
 "metadata": {
  "kernelspec": {
   "display_name": "Python 3",
   "language": "python",
   "name": "python3"
  },
  "language_info": {
   "codemirror_mode": {
    "name": "ipython",
    "version": 3
   },
   "file_extension": ".py",
   "mimetype": "text/x-python",
   "name": "python",
   "nbconvert_exporter": "python",
   "pygments_lexer": "ipython3",
   "version": "3.10.12"
  }
 },
 "nbformat": 4,
 "nbformat_minor": 2
}
