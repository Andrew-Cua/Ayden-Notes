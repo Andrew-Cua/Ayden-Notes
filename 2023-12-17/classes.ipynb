{
 "cells": [
  {
   "cell_type": "markdown",
   "metadata": {},
   "source": [
    "# Classes \n",
    "In Python, classes are like blueprints for creating objects. Imagine you want to make toy cars. The class is the plan that tells you how to build a toy car. Each toy car you make using this plan is an object. The class defines what the toy car (object) can do and what it knows, like its color or speed. So, a class is like a template for creating things with specific properties and behaviors.\n"
   ]
  },
  {
   "cell_type": "code",
   "execution_count": 8,
   "metadata": {},
   "outputs": [],
   "source": [
    "from __future__ import annotations\n",
    "\n",
    "# Car class \n",
    "# attribute one: how many wheels it has \n",
    "# attribute two: what color it is \n",
    "\n",
    "\n",
    "# making a class \n",
    "class Car: \n",
    "\n",
    "    # all classes need a constructor, python's constructor is the __init__ function \n",
    "    # all class functions need 'self' as the first argument to the function \n",
    "    def __init__(self, wheels: int, color: str):\n",
    "        self.wheels = wheels \n",
    "        self.color = color \n",
    "\n",
    "    \n",
    "    # we can define extra functions for the class like normal \n",
    "    # as you can access class attributes using the self keyword \n",
    "    # which is why we need to pass it n \n",
    "    def describe(self):\n",
    "        print(f\"I am a {self.color} car with {self.wheels} wheels\")\n",
    "\n",
    "    def drive(self):\n",
    "        print(f\"I am driving on {self.wheels} wheels\")\n",
    "\n",
    "    # class methods can accept other parameters like normal\n",
    "    def compare(self, car: Car) -> bool:\n",
    "        if (car.wheels == self.wheels and car.color == self.color):\n",
    "            return True \n",
    "        else:\n",
    "            return False \n",
    "        \n",
    "\n"
   ]
  },
  {
   "cell_type": "code",
   "execution_count": 10,
   "metadata": {},
   "outputs": [
    {
     "name": "stdout",
     "output_type": "stream",
     "text": [
      "3\n",
      "I am a red car with 4 wheels\n",
      "I am a blue car with 4 wheels\n",
      "I am a white car with 6 wheels\n",
      "Comparing sedan's one and two\n",
      "These are different cars\n",
      "\n",
      "\n",
      "\n",
      "\n",
      "Comparing sedan's one and three\n",
      "These are the same type of car\n"
     ]
    }
   ],
   "source": [
    "# we can instantiate a class like so: \n",
    "def test(one, two):\n",
    "    return one + two \n",
    "\n",
    "print(test(1,2))\n",
    "\n",
    "sedan_one = Car(4, \"red\")    # makes an instance of Car \n",
    "sedan_two = Car(4, \"blue\")   # makes an different instance of Car again \n",
    "sedan_three = Car(4, \"red\")\n",
    "truck_one = Car(6, \"white\")\n",
    "\n",
    "# each one is a unique object\n",
    "sedan_one.describe()\n",
    "sedan_two.describe()\n",
    "truck_one.describe()\n",
    "\n",
    "print(\"Comparing sedan's one and two\")\n",
    "if sedan_two.compare(sedan_one):\n",
    "    print(\"These are the same type of car\")\n",
    "else: \n",
    "    print(\"These are different cars\")\n",
    "print(\"\\n\\n\\n\")\n",
    "print(\"Comparing sedan's one and three\")\n",
    "if sedan_one.compare(sedan_three):\n",
    "    print(\"These are the same type of car\")\n",
    "else: \n",
    "    print(\"These are different cars\")\n",
    "\n"
   ]
  },
  {
   "cell_type": "markdown",
   "metadata": {},
   "source": [
    "## Practice Exercise \n",
    "\n",
    "1. Write a class `Assignment` that represents an classroom assignment. It needs to have the following attributes:\n",
    "- `score`: the score the student got on the assignment \n",
    "- `type`: the type of assignement it was \"quiz, test, homework\" and whatnot\n",
    "- `cls`: the class the assignment was completed in \n",
    "\n",
    "2. Write a class `Student` that represents a student, it should have the following attributes: \n",
    "- `assignments`: a list of graded assignments under the students name \n",
    "- `name`: the name of the students \n",
    "\n",
    "3. Add the following functions to the `Student` class \n",
    "- `addAssignment` takes in an assignment as a parameter and adds it to the list \n",
    "- `curveClass` takes in a class name and an amount of points and curves all the assignments in that class by the amount of points \n",
    "- `get_avg` takes in a class name and gets the students average in the class \n",
    "\n",
    "4. Create the following global functions \n",
    "- `get_class_avg`: takes in a class name and a list of students and computer the average of the entire class \n",
    "- `get_class_median`: takes in a class name and a list of students and gets the median score \n",
    "- `get_class_min`: takes in a class name and a list of students and returns the student with the lowest score \n",
    "- `get_class_max`: takes in a class name and a list of students and returns the student with the greatest score  \n",
    "\n"
   ]
  },
  {
   "cell_type": "code",
   "execution_count": 4,
   "metadata": {},
   "outputs": [],
   "source": [
    "## Write your assignment class here\n",
    "class Assignment:\n",
    "\n",
    "    def __init__(self, score: float, type: str, cls: str):\n",
    "        self.score = score\n",
    "        self.type = type\n",
    "        self.cls = cls"
   ]
  },
  {
   "cell_type": "code",
   "execution_count": 27,
   "metadata": {},
   "outputs": [
    {
     "name": "stdout",
     "output_type": "stream",
     "text": [
      "20\n"
     ]
    }
   ],
   "source": [
    "def add10(x: float) -> float: \n",
    "    return x \n",
    "\n",
    "one = add10(10)\n",
    "print(one)"
   ]
  },
  {
   "cell_type": "code",
   "execution_count": 34,
   "metadata": {},
   "outputs": [],
   "source": [
    "## Write your student class here\n",
    "\n",
    "class Student:\n",
    "    def __init__(self, name):\n",
    "        self.name = name\n",
    "        self.assignments = [] \n",
    "\n",
    "    def addAssignment(self, assignment):\n",
    "        self.assignments.append(assignment)\n",
    "\n",
    "    def curveClass(self, curve: float, cls: str):\n",
    "        for assignment in self.assignments:\n",
    "            if assignment.cls == cls:\n",
    "                assignment.score += curve \n",
    "\n",
    "    def get_avg(self, cls) -> float:\n",
    "        \n",
    "        averages = 0\n",
    "        num_of_assignments = 0\n",
    "        for assignment in self.assignments:\n",
    "            if assignment.cls == cls:\n",
    "                num_of_assignments += 1\n",
    "                averages += assignment.score\n",
    "        \n",
    "        return averages / num_of_assignments\n",
    "        \n",
    "        \n",
    "\n",
    "\n",
    "\n"
   ]
  },
  {
   "cell_type": "code",
   "execution_count": 37,
   "metadata": {},
   "outputs": [],
   "source": [
    "## Write your global functions here \n",
    "#- `get_class_avg`: takes in a class name and a list of students and compute the average of the entire class \n",
    "#- `get_class_median`: takes in a class name and a list of students and gets the median score \n",
    "#- `get_class_min`: takes in a class name and a list of students and returns the student with the lowest score \n",
    "#- `get_class_max`: takes in a class name and a list of students and returns the student with the greatest score  \n",
    "\n",
    "def get_class_avg(cls, students): \n",
    "    class_averages = 0\n",
    "    num_of_students = 0\n",
    "    for student in students.values():   \n",
    "        num_of_students += 1\n",
    "        class_averages += student.get_avg(cls)\n",
    "        \n",
    "        return class_averages / num_of_students\n",
    "    \n",
    "\n",
    "\n",
    "def get_class_median(cls, students):\n",
    "\n",
    "    # count the amount of numbers \n",
    "    # divide by 2 \n",
    "    # that index in the list is the median \n",
    "\n",
    "    # list of student averages\n",
    "    student_averages = [] \n",
    "\n",
    "    # get student from students \n",
    "    for student in students.values(): \n",
    "        student_averages.append(student.get_avg(cls))\n",
    "\n",
    "    student_averages.sort() \n",
    "    median_score = student_averages[len(student_averages) // 2]\n",
    "    return median_score \n",
    "\n",
    "    \n",
    "def get_class_min(cls, students):\n",
    "    student_averages = [] \n",
    "\n",
    "    for student in students.values():\n",
    "        student_averages.append(student.get_avg(cls))\n",
    "\n",
    "\n",
    "    student_averages.sort() # [1, 2, 3]\n",
    "    min_score = student_averages[0]\n",
    "    return min_score \n",
    "    \n",
    "    #Pull Out the scores from the class\n",
    "    # Find the lowest score\n",
    "    \n",
    "\n",
    "def get_class_max(cls, students):\n",
    "    student_averages = [] \n",
    "\n",
    "    for student in students.values():\n",
    "        student_averages.append(student.get_avg(cls))\n",
    "\n",
    "    student_averages.sort()\n",
    "    max_score = student_averages[len(student_averages) - 1]\n",
    "    return max_score\n",
    "\n",
    "\n"
   ]
  },
  {
   "cell_type": "code",
   "execution_count": 1,
   "metadata": {},
   "outputs": [
    {
     "name": "stdout",
     "output_type": "stream",
     "text": [
      "1\n"
     ]
    }
   ],
   "source": []
  },
  {
   "cell_type": "code",
   "execution_count": 38,
   "metadata": {},
   "outputs": [
    {
     "name": "stdout",
     "output_type": "stream",
     "text": [
      "72.55859135880677\n"
     ]
    }
   ],
   "source": [
    "import typing\n",
    "\n",
    "students = {} # store the students here \n",
    "\n",
    "def get_data(data:str) -> typing.Tuple[str, str, str,float]:\n",
    "    elems = line.split(',')\n",
    "    return elems[0], elems[1], elems[2], float(elems[3])\n",
    "\n",
    "with open(\"grades.csv\", \"r\") as file: \n",
    "    for line in file:\n",
    "        name, cls, assignment_type, grade = get_data(line)\n",
    "        if name in students.keys():\n",
    "            students[name].addAssignment(Assignment(grade, assignment_type, cls))\n",
    "        else: \n",
    "            student = Student(name)\n",
    "            students[name] = student \n",
    "            student.addAssignment(Assignment(grade, assignment_type, cls))\n",
    "\n",
    "\n",
    "\n",
    "print(get_class_max(\" Social Studies\", students))\n",
    "\n",
    "\n",
    "        "
   ]
  }
 ],
 "metadata": {
  "kernelspec": {
   "display_name": "base",
   "language": "python",
   "name": "python3"
  },
  "language_info": {
   "codemirror_mode": {
    "name": "ipython",
    "version": 3
   },
   "file_extension": ".py",
   "mimetype": "text/x-python",
   "name": "python",
   "nbconvert_exporter": "python",
   "pygments_lexer": "ipython3",
   "version": "3.10.12"
  }
 },
 "nbformat": 4,
 "nbformat_minor": 2
}
