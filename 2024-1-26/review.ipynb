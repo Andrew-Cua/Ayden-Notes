{
 "cells": [
  {
   "cell_type": "markdown",
   "metadata": {},
   "source": [
    "## Classes \n",
    "Classes have attributes. When a class is made it has to have a definition with init in it because init is the constructor of a blueprint. Because Python is an OOP, it allows us to create our own classes for more variety of possibilities of code."
   ]
  },
  {
   "cell_type": "code",
   "execution_count": 11,
   "metadata": {},
   "outputs": [
    {
     "name": "stdout",
     "output_type": "stream",
     "text": [
      "Ayden 11 Male\n",
      "Andrew 22 Male\n",
      "You won\n"
     ]
    }
   ],
   "source": [
    "class Person:\n",
    "    def __init__(self, age, name, gender, power, hp):\n",
    "        self.age = age\n",
    "        self.name = name \n",
    "        self.gender = gender\n",
    "        self.power = power\n",
    "        self.hp = hp\n",
    "\n",
    "\n",
    "    def name_age_and_gender(self):\n",
    "        print(self.name, self.age, self.gender) \n",
    "\n",
    "    def battle(self, person):\n",
    "        total_strength = self.power+self.hp\n",
    "        total_strength_other = person.power+person.hp\n",
    "        if total_strength>total_strength_other:\n",
    "            print(\"You won\")\n",
    "        else:\n",
    "            print(\"You lost\")\n",
    "\n",
    "\n",
    "ayden = Person(11, \"Ayden\", \"Male\", 100, 20)\n",
    "\n",
    "ayden.name_age_and_gender()\n",
    "andrew = Person(22, \"Andrew\", \"Male\", 40, 40)\n",
    "andrew.name_age_and_gender()\n",
    "\n",
    "ayden.battle(andrew)"
   ]
  },
  {
   "cell_type": "code",
   "execution_count": null,
   "metadata": {},
   "outputs": [],
   "source": []
  }
 ],
 "metadata": {
  "kernelspec": {
   "display_name": "Python 3",
   "language": "python",
   "name": "python3"
  },
  "language_info": {
   "codemirror_mode": {
    "name": "ipython",
    "version": 3
   },
   "file_extension": ".py",
   "mimetype": "text/x-python",
   "name": "python",
   "nbconvert_exporter": "python",
   "pygments_lexer": "ipython3",
   "version": "3.10.12"
  }
 },
 "nbformat": 4,
 "nbformat_minor": 2
}
