{
 "cells": [
  {
   "cell_type": "markdown",
   "metadata": {},
   "source": [
    "# Inheritance \n",
    "\n",
    "Previously, you have been using classes as a method to model, store, and manipulate data. However, there is another feature of classes that make them unique. Inheritance. \n",
    "\n",
    "Inheritance in programming works much the same to how it works genetically. You have a parent class that may have certain attributes and methods, if then we have a child class that \"inherits\" from it, the child will also have access to those attributes and methods. "
   ]
  },
  {
   "cell_type": "code",
   "execution_count": 4,
   "metadata": {},
   "outputs": [],
   "source": [
    "# parent class \n",
    "\n",
    "class Vehicle: \n",
    "\n",
    "    def __init__(self, wheels: int) -> None:\n",
    "        self.wheels = wheels\n",
    "\n",
    "    def drive(self) -> None:\n",
    "        print(f\"I can drive on {self.wheels} wheels\")\n",
    "    \n",
    "        "
   ]
  },
  {
   "cell_type": "code",
   "execution_count": 5,
   "metadata": {},
   "outputs": [
    {
     "name": "stdout",
     "output_type": "stream",
     "text": [
      "I can drive on 4 wheels\n",
      "I am a car\n"
     ]
    }
   ],
   "source": [
    "class Car(Vehicle): \n",
    "\n",
    "    def __init__(self, wheels: int, doors: int) -> None: \n",
    "        self.doors = doors\n",
    "        Vehicle.__init__(self, wheels)\n",
    "\n",
    "    def describe(self) -> None: \n",
    "        print(\"I am a car\")\n",
    "\n",
    "\n",
    "car = Car(4, 2)\n",
    "\n",
    "car.describe() # a new method from Car\n",
    "car.drive() # inherited from Vehicle \n",
    "\n"
   ]
  }
 ],
 "metadata": {
  "kernelspec": {
   "display_name": "Python 3",
   "language": "python",
   "name": "python3"
  },
  "language_info": {
   "codemirror_mode": {
    "name": "ipython",
    "version": 3
   },
   "file_extension": ".py",
   "mimetype": "text/x-python",
   "name": "python",
   "nbconvert_exporter": "python",
   "pygments_lexer": "ipython3",
   "version": "3.10.12"
  }
 },
 "nbformat": 4,
 "nbformat_minor": 2
}
